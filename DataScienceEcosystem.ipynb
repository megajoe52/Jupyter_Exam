{
 "cells": [
  {
   "cell_type": "markdown",
   "id": "55889e46-a003-4490-96d5-9646d636afef",
   "metadata": {},
   "source": [
    "# Data Science Tools and Ecosystem"
   ]
  },
  {
   "cell_type": "markdown",
   "id": "a05f1249-ac15-4141-96df-fc3d71fadda6",
   "metadata": {},
   "source": [
    "In this notebook, Data Science Tools and Ecosystem are summarized."
   ]
  },
  {
   "cell_type": "markdown",
   "id": "9f2c471f-a7eb-40e9-9205-7349982255fe",
   "metadata": {},
   "source": [
    "**Objectives:**\n",
    "* Use simple arithmetic expressions.\n",
    "* List common tools for data science.\n",
    "* List common data science Libraries. "
   ]
  },
  {
   "cell_type": "markdown",
   "id": "049c27f1-652a-46e1-8e03-d203d78dc7ce",
   "metadata": {},
   "source": [
    "Some of the popular languages that Data Scientists use are: Lang =  \n",
    "1. MatLab \n",
    "2. R \n",
    "3. Python"
   ]
  },
  {
   "cell_type": "markdown",
   "id": "1be27611-3de2-4504-afbb-242c5c941d35",
   "metadata": {},
   "source": [
    "Some of the commonly used libraries used by Data Scientists include:\n",
    "1. TensorFlow\n",
    "2. Matplotlib \n",
    "3. NumPy"
   ]
  },
  {
   "cell_type": "markdown",
   "id": "4866e5d5-c115-43ba-a251-2615faf143a0",
   "metadata": {},
   "source": [
    "|Data Science Tools|\n",
    "|---------------|\n",
    "| RStudio |\n",
    "| Apache Spark |\n",
    "| TensorFlow |"
   ]
  },
  {
   "cell_type": "markdown",
   "id": "1672a14a-698a-4cbe-9fd6-2603493a9f6f",
   "metadata": {},
   "source": [
    "### Below are a few examples of evaluating arithmetic expressions in Python"
   ]
  },
  {
   "cell_type": "code",
   "execution_count": 1,
   "id": "39fb9d26-c482-4c98-aedf-b98ac2f13a32",
   "metadata": {},
   "outputs": [
    {
     "data": {
      "text/plain": [
       "17"
      ]
     },
     "execution_count": 1,
     "metadata": {},
     "output_type": "execute_result"
    }
   ],
   "source": [
    "# This a simple arithmetic expression to mutiply then add integers\n",
    "(3*4)+5"
   ]
  },
  {
   "cell_type": "code",
   "execution_count": 6,
   "id": "a196914b-63a0-442a-9ecd-c25c48d71058",
   "metadata": {},
   "outputs": [
    {
     "data": {
      "text/plain": [
       "3.3333333333333335"
      ]
     },
     "execution_count": 6,
     "metadata": {},
     "output_type": "execute_result"
    }
   ],
   "source": [
    "# This will convert 200 minutes to hours by diving by 60\n",
    "minutes == 200\n",
    "hours = minutes/60\n",
    "hours"
   ]
  },
  {
   "cell_type": "markdown",
   "id": "7d98c403-17e5-4dfe-887f-2a175884f8b3",
   "metadata": {},
   "source": [
    "## Auther\n",
    "Joseph Clark"
   ]
  },
  {
   "cell_type": "code",
   "execution_count": null,
   "id": "3ac01599-6708-4f34-825c-7fa9ccdf6575",
   "metadata": {},
   "outputs": [],
   "source": []
  }
 ],
 "metadata": {
  "kernelspec": {
   "display_name": "Python 3 (ipykernel)",
   "language": "python",
   "name": "python3"
  },
  "language_info": {
   "codemirror_mode": {
    "name": "ipython",
    "version": 3
   },
   "file_extension": ".py",
   "mimetype": "text/x-python",
   "name": "python",
   "nbconvert_exporter": "python",
   "pygments_lexer": "ipython3",
   "version": "3.11.7"
  }
 },
 "nbformat": 4,
 "nbformat_minor": 5
}
